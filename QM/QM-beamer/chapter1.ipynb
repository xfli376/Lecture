{
 "cells": [
  {
   "cell_type": "markdown",
   "metadata": {
    "slideshow": {
     "slide_type": "slide"
    }
   },
   "source": [
    "\n",
    "# <center><font color=\"#191970\">量子力学与统计物理</font></center>\n",
    "<center><font color=\"#191970\">Quantum mechanics and statistical physics</font></center>\n",
    "<br/>\n",
    "<center><img src=\" figs/uestclogo.jpeg \" width=\"15%\"></center>\n",
    " \n",
    "<center> <font color=\"#FFA500\">李小飞</font> <font color=\"#191970\"> @ 电子科技大学 ⋅ 光电科学与工程学院</font></center>"
   ]
  },
  {
   "cell_type": "markdown",
   "metadata": {
    "slideshow": {
     "slide_type": "slide"
    }
   },
   "source": [
    "# <center><font color=\"#191970\">第一章：绪论</font></center> \n",
    "<br/>\n",
    "<br/>\n",
    "\n",
    " <center><font color=\"#191970\">第1讲：能量子假说</font></center> \n"
   ]
  },
  {
   "cell_type": "markdown",
   "metadata": {
    "slideshow": {
     "slide_type": "slide"
    }
   },
   "source": [
    "## 课程简介\n",
    "### <font color=\"#FFA500\"> 课程目标 </font>\n",
    "\n",
    "- Learn the formal theory of Quantum Mechanics\n",
    "\n",
    "- How physical systems are described in Quantum Mechanics.\n",
    "\n",
    "- How to solve problems in Quantum Mechanics.\n"
   ]
  },
  {
   "cell_type": "markdown",
   "metadata": {
    "slideshow": {
     "slide_type": "subslide"
    }
   },
   "source": [
    "### <font color=\"#FFA500\"> 分数构成 </font>\n",
    "\n",
    "- Normal results 30%\n",
    "\n",
    "- Midterm examination results 20%\n",
    "\n",
    "- Final examination results 50%"
   ]
  },
  {
   "cell_type": "markdown",
   "metadata": {
    "slideshow": {
     "slide_type": "subslide"
    }
   },
   "source": [
    "\n",
    "### <font color=\"#FFA500\"> 参考书目 </font>\n",
    "\n",
    "- Principles of quantum mechanics, shankar\n",
    "\n",
    "- Modern quantum mechanics, shankar\n",
    "\n",
    "- Lectures on quantum mechanics, weinberg\n",
    "\n",
    "- Principles of quantum mechanics, Dirac\n"
   ]
  },
  {
   "cell_type": "markdown",
   "metadata": {
    "slideshow": {
     "slide_type": "subslide"
    }
   },
   "source": [
    "### <font color=\"#FFA500\"> 三条军规 </font>\n",
    "\n",
    "- Rule 1: Objects are wave-particles and can be in states of superposition\n",
    "\n",
    "- Rule 2: Rule 1 holds as long as you don't measure\n",
    "\n",
    "- Rule 3: Measurement gives random results"
   ]
  },
  {
   "cell_type": "markdown",
   "metadata": {
    "slideshow": {
     "slide_type": "subslide"
    }
   },
   "source": [
    "### <font color=\"#FFA500\"> 教学效果 </font>\n",
    "\n",
    "<center><img src=\" figs/exam1.png \" width=\"85%\" height=\"80%\" ></center>"
   ]
  },
  {
   "cell_type": "markdown",
   "metadata": {
    "slideshow": {
     "slide_type": "slide"
    }
   },
   "source": [
    "## 现代科学基石\n",
    "\n",
    "### <font color=\"#FFA500\"> 经典物理伟大成就 </font>\n",
    "\n",
    "<center>\n",
    "<table>\n",
    "    <tr>\n",
    "        <td> <img src=\"figs/2021-12-01-22-37-50.png\" alt=\"Drawing\" style=\"height: 300px\"/> </td>\n",
    "        <td> <img src=\"figs/2021-12-01-22-40-38.png\" alt=\"Drawing\" style=\"height: 300px\"/> </td>\n",
    "        <td> <img src=\"figs/2021-12-01-22-44-42.png\" alt=\"Drawing\" style=\"height: 300px\"/> </td>\n",
    "    </tr>\n",
    "</table>\n",
    "</center>\n",
    "<center>$\\bullet$ 牛顿力学 $\\hspace{3em}\\bullet$电磁学 $\\hspace{3em}\\bullet$统计力学 </center>"
   ]
  },
  {
   "cell_type": "markdown",
   "metadata": {
    "slideshow": {
     "slide_type": "subslide"
    }
   },
   "source": [
    "Lord Kelvin (1900):\n",
    "\n",
    " <center><img src=\" figs/2022-09-09-13-32-31.png \" width=\"20%\" height=\"18%\" ></center>\n",
    "\n",
    "- \"There is nothing new to be discovered in physics now. All that remains is more and more precise measurements\" \n",
    "- \"But the beauty and clearness ... is obscured by two small puzzling clouds \""
   ]
  },
  {
   "cell_type": "markdown",
   "metadata": {
    "slideshow": {
     "slide_type": "subslide"
    }
   },
   "source": [
    "### <font color=\"#FFA500\"> 两朵乌云 </font> \n",
    "\n",
    "1. Michelson-Morley experiment\n",
    " - The theory of relativity\n",
    "2. Black body radiation \n",
    " - Quantum mechanics\n",
    "  "
   ]
  },
  {
   "cell_type": "markdown",
   "metadata": {
    "slideshow": {
     "slide_type": "subslide"
    }
   },
   "source": [
    "####  迈克尔逊-莫雷实验 \n",
    "\n",
    "<center><img src=\" figs/michel.png \" width=\"600pi\" height=\"50%\" ></center>"
   ]
  },
  {
   "cell_type": "markdown",
   "metadata": {
    "slideshow": {
     "slide_type": "subslide"
    }
   },
   "source": [
    "- There is no displacement of the interference bands \n",
    "\n",
    "- The Stationary Ether is thus shown to be incorrect \n",
    "\n",
    "- The theory of relativity was established, it greatly changes our view of time and space."
   ]
  },
  {
   "cell_type": "markdown",
   "metadata": {
    "slideshow": {
     "slide_type": "subslide"
    }
   },
   "source": [
    "####  黑体辐射实验\n",
    "\n",
    "<center><img src=\" figs/2021-12-01-23-47-27.png \" width=\"45%\" height=\"40%\" ></center>"
   ]
  },
  {
   "cell_type": "markdown",
   "metadata": {
    "slideshow": {
     "slide_type": "subslide"
    }
   },
   "source": [
    "- No mathematical function to describe the curves exactly \n",
    "  \n",
    "- Quantum mechanics is established, it is a theory about matter"
   ]
  },
  {
   "cell_type": "markdown",
   "metadata": {
    "slideshow": {
     "slide_type": "subslide"
    }
   },
   "source": [
    "####  现代科学基石\n",
    "\n",
    "<center><img src=\" figs/stone.png \" width=\"60%\" height=\"60%\" ></center>"
   ]
  },
  {
   "cell_type": "markdown",
   "metadata": {
    "slideshow": {
     "slide_type": "slide"
    }
   },
   "source": [
    "## 黑体辐射\n",
    "\n",
    "###   <font color=\"#FFA500\"> 黑体的定义  </font>\n",
    "\n",
    "- absorb all electromagnetic waves in any temperature\n",
    "\n",
    "<center><img src=\"figs/2022-09-27-05-18-57.png \" width=\"250pi\" height=\"30%\" ></center> "
   ]
  },
  {
   "cell_type": "markdown",
   "metadata": {
    "slideshow": {
     "slide_type": "subslide"
    }
   },
   "source": [
    "  \n",
    "###   <font color=\"#FFA500\"> 三大经验公式  </font> \n",
    "<center><img src=\" figs/threelaws.png \" width=\"550pi\" height=\"30%\" ></center>"
   ]
  },
  {
   "cell_type": "markdown",
   "metadata": {
    "slideshow": {
     "slide_type": "subslide"
    }
   },
   "source": [
    "####  维恩公式  \n",
    "\n",
    "$$ \\rho(\\nu) d \\nu=c_{1} \\nu^{3} e^{-c_{2} \\nu / T} d \\nu \\hspace{8em} $$\n",
    "\n",
    "- Derived from electromagnetism (1893). Do it !\n",
    "  \n",
    "- Described well only in high frequency region.  Why ?\n",
    "  \n",
    "- Nobel Prize in physics（1911）"
   ]
  },
  {
   "cell_type": "markdown",
   "metadata": {
    "slideshow": {
     "slide_type": "subslide"
    }
   },
   "source": [
    "####  瑞-金公式\n",
    "\n",
    "$$ \\rho(\\nu, T) d \\nu=\\frac{8 \\pi}{c^{3}} \\nu^{2} k T d \\nu \\hspace{8em} $$\n",
    "\n",
    "- Derived from thermodynamics (1900).   Do it !\n",
    "  \n",
    "- Described well only in low frequency region.  Why ?\n",
    "  \n",
    "- Nobel Prize in physics（1904）"
   ]
  },
  {
   "cell_type": "markdown",
   "metadata": {
    "slideshow": {
     "slide_type": "subslide"
    }
   },
   "source": [
    "- **Ultraviolet Catastrophe**\n",
    "\n",
    "\n",
    "$$ \\int_0 ^\\infty \\frac{8 \\pi}{c^{3}} \\nu^{2} k T d \\nu \\to \\infty \\hspace{10em} $$"
   ]
  },
  {
   "cell_type": "markdown",
   "metadata": {
    "slideshow": {
     "slide_type": "subslide"
    }
   },
   "source": [
    "####  普朗克公式 \n",
    "\n",
    "$$ \\boxed{\\rho(\\nu, T) d \\nu=\\frac{8 \\pi}{c^{3}} \\frac{h \\nu^{3}}{e^{h \\nu / K T}-1} d \\nu}\\hspace{8em} $$\n",
    "\n",
    "- Obtained from experimental data via interpolation technique （1900）\n",
    "  \n",
    "- Described well in whole region\n",
    "  \n",
    "- Nobel Prize in physics（1918）"
   ]
  },
  {
   "cell_type": "markdown",
   "metadata": {
    "slideshow": {
     "slide_type": "subslide"
    }
   },
   "source": [
    "**Big problem !** \n",
    "\n",
    "- How to derive the Planck's law from existing theory."
   ]
  },
  {
   "cell_type": "markdown",
   "metadata": {
    "slideshow": {
     "slide_type": "slide"
    }
   },
   "source": [
    "## 能量子假说\n",
    "\n",
    "On 1900-12-14, Planck gives out his solution based on the Energy Quantum Hypothesis \n",
    "\n"
   ]
  },
  {
   "cell_type": "markdown",
   "metadata": {
    "slideshow": {
     "slide_type": "slide"
    }
   },
   "source": [
    "###   <font color=\"#FFA500\"> Energy Quantum Hypothesis  </font>\n",
    "\n",
    "Assuming the oscillators of the cavity could only radiate at a discrete amounts of energy\n",
    "  \n",
    "$$ \\boxed{E=n\\varepsilon} \\hspace{8em}$$\n",
    "\n",
    "where, the 𝜀 is the unit of the energy (quanta) determined by the oscillator' frequency \n",
    "\n",
    "$$ \\boxed{\\varepsilon=h\\nu} \\hspace{8em}$$\n",
    "\n",
    "and the h is the Planck constant.\n",
    "$$~h=6.6260693(11)\\times10^{-34} J\\cdot S \\hspace{8em}$$  "
   ]
  },
  {
   "cell_type": "markdown",
   "metadata": {
    "slideshow": {
     "slide_type": "subslide"
    }
   },
   "source": [
    "###  <font color=\"#FFA500\"> 公式推导 </font>\n",
    "\n",
    "Based on Boltzmann distribution law,\n",
    "$$\\frac{N_{i}}{N}=\\frac{\\exp \\left(-\\frac{E_{i}}{k T}\\right)}{\\sum_{i} \\exp \\left(\\frac{-E_{i}}{k T}\\right)} \\hspace{8em}$$\n",
    "\n",
    "when the energy is continuous，the distribution between E - dE should be \n",
    "\n",
    "$$ \\frac{e^{-E / k T}}{\\int\\limits_{0}^{\\infty} e^{-E / k T} d E} \\hspace{8em}$$\n",
    " "
   ]
  },
  {
   "cell_type": "markdown",
   "metadata": {
    "slideshow": {
     "slide_type": "subslide"
    }
   },
   "source": [
    "and the average energy is \n",
    "\n",
    "$$\\begin{equation*}\n",
    "    \\begin{split}\n",
    "    <E> &=\\int\\limits_{0}^{\\infty} E \\frac{e^{-E / k T}}{\\int\\limits_{0}^{\\infty} e^{-E / k T} d E} d E \\\\ \n",
    "     &= -kT \\frac{Ee^{-E / k T}\\vert_0 ^\\infty-\\int\\limits_{0}^{\\infty} e^{-E / k T} d E } {\\int\\limits_{0}^{\\infty} e^{-E / k T} d E }\\\\  \n",
    "    &= kT \n",
    "    \\end{split}  \n",
    "\\end{equation*} \\hspace{10em} $$\n",
    "\n"
   ]
  },
  {
   "cell_type": "markdown",
   "metadata": {
    "slideshow": {
     "slide_type": "subslide"
    }
   },
   "source": [
    "- when the energy is discrete，the distribution should be   \n",
    "$$\\begin{equation*}\n",
    "        \\frac{e^{-E / k T}}{\\int\\limits_{0}^{\\infty} e^{-E / k T} d E} \n",
    "        \\to \\frac{e^{-E / k T}}{\\sum\\limits_{0}^{\\infty} e^{-E / k T}} \n",
    "        \\to \\frac{e^{-nh\\nu / k T}}{\\sum\\limits_{0}^{\\infty} e^{-nhv / k T}} \n",
    "    \\end{equation*} \\hspace{8em} $$ "
   ]
  },
  {
   "cell_type": "markdown",
   "metadata": {
    "slideshow": {
     "slide_type": "subslide"
    }
   },
   "source": [
    "the average energy is\n",
    "$$\\begin{equation*}\n",
    "        \\begin{split}\n",
    "            <E> &= \\sum\\limits_{0}^{\\infty} nh\\nu\\frac{e^{-nh\\nu / k T}}{\\sum\\limits_{0}^{\\infty} e^{-nh\\nu / k T}} \\\\\n",
    "            &= -h\\nu \\frac{d}{dx} \\frac{n e^{-nx}}{\\sum\\limits_{0}^{\\infty} e^{-nx}} \\\\\n",
    "            &= \\frac{h\\nu}{e^{h\\nu/kT}-1}  \n",
    "        \\end{split} \n",
    "    \\end{equation*} \\hspace{8em}$$"
   ]
  },
  {
   "cell_type": "markdown",
   "metadata": {
    "slideshow": {
     "slide_type": "subslide"
    }
   },
   "source": [
    "We get\n",
    "\n",
    "$\\text{(continuous)} \\quad k T \\rightarrow \\frac{h \\nu}{e^{ h \\nu / k T}-1} \\quad \\text{(discrete)} \n",
    "$"
   ]
  },
  {
   "cell_type": "markdown",
   "metadata": {
    "slideshow": {
     "slide_type": "subslide"
    }
   },
   "source": [
    "In Rayleigh-Jeans formula\n",
    "   $$\\begin{equation*}\n",
    "        \\rho(\\nu, T) d \\nu=\\frac{8 \\pi}{c^{3}} \\nu^{2} k T d \\nu \n",
    "    \\end{equation*} \\hspace{8em} $$\n",
    "if the energy is discrete, the item **kT** should be replaced by $\\dfrac{h \\nu}{e^{ h \\nu / k T}-1}$\n",
    "    $$\\begin{equation*}\n",
    "        \\rho(\\nu, T) d \\nu=\\frac{8 \\pi}{c^{3}} \\frac{h \\nu^{3}}{e^{h \\nu / K T}-1} d \\nu\n",
    "    \\end{equation*}  \\hspace{8em}$$\n",
    "It is the Planck's formula exactly "
   ]
  },
  {
   "cell_type": "markdown",
   "metadata": {
    "slideshow": {
     "slide_type": "subslide"
    }
   },
   "source": [
    "###   <font color=\"#FF8800\"> Revolutionary Significance </font>\n",
    "\n",
    "Planck's Energy Quantum Hypothesis broke through the constraints of classical physics and \n",
    "opened the door of quantum mechanics "
   ]
  },
  {
   "cell_type": "markdown",
   "metadata": {
    "slideshow": {
     "slide_type": "slide"
    }
   },
   "source": [
    "##### Tips\n",
    "\n",
    "- 历史上，普朗克，德拜，艾伦菲斯特，劳厄，洛伦兹, 庞加莱，泡利，玻色，爱因斯坦等从多角度推导过普朗克公式，\n",
    "\n",
    "- 每一次推导都给物理学带来了新的知识内容 "
   ]
  },
  {
   "cell_type": "markdown",
   "metadata": {
    "slideshow": {
     "slide_type": "slide"
    }
   },
   "source": [
    "#####  学术讨论 \n",
    "\n",
    "1. 这堂课你学到了什么?  \n",
    "\n",
    "2. 普朗克黑体辐射公式和能量量子化观念哪个影响更大？\n"
   ]
  },
  {
   "cell_type": "markdown",
   "metadata": {
    "slideshow": {
     "slide_type": "slide"
    }
   },
   "source": [
    "#####    作业 \n",
    "\n",
    "1. Planck's Energy Quantum Hypothesis\n",
    "   \n",
    "2. What's the quanta\n",
    "   \n",
    "3. Deriving the Rayleigh-Jeans formula and Wien's formula from Planck's formula\n"
   ]
  },
  {
   "cell_type": "markdown",
   "metadata": {
    "slideshow": {
     "slide_type": "slide"
    }
   },
   "source": [
    "#####  播放\n",
    "\n",
    "1. 空格/推进， shift+空格/后退， shift+回车/执行代码 \n",
    "\n",
    "1. 左/划重点，右/删除划线, q(s)/变色\n",
    "\n",
    "1. -/clear full size chalkboard， =/reset chalkboard data on current slide\n",
    "\n",
    "1. command+\"+\"/放大， command+\"-\"/缩小\n",
    "\n",
    "1. 浏览器 Chrome+全屏+不显示工具栏 "
   ]
  },
  {
   "cell_type": "markdown",
   "metadata": {
    "slideshow": {
     "slide_type": "slide"
    }
   },
   "source": [
    "\n",
    "\n",
    "## 第 2 讲：波粒二象性\n"
   ]
  },
  {
   "cell_type": "markdown",
   "metadata": {
    "slideshow": {
     "slide_type": "slide"
    }
   },
   "source": [
    "##### 【前情回顾】\n",
    "\n",
    "Assuming the oscillators can radiate at discrete amounts of energy\n",
    "$$ E=n\\varepsilon, \\qquad (n=1,2,3,\\cdots) \\hspace{2em}$$\n",
    "and the unit of the energy is determined by the oscillator' frequency\n",
    "$$ \\varepsilon=h\\nu \\hspace{10em} $$\n",
    "one can derive the Planck's framula：\n",
    "$$\\rho(\\nu, T) d \\nu=\\frac{8 \\pi}{c^{3}} \\frac{h \\nu^{3} }{e^{h \\nu / K T}-1} d \\nu \\hspace{6em}$$\n",
    "which describes black body radiation well in whole region"
   ]
  },
  {
   "cell_type": "markdown",
   "metadata": {
    "slideshow": {
     "slide_type": "slide"
    }
   },
   "source": [
    "## 波粒二象性\n",
    "\n",
    "###  <font color=\"#FFA500\"> 波与粒子的不可调和性 </font>\n",
    "\n",
    "|**粒子性** | **波动性**|\n",
    "|------|----- |\n",
    "|确定的位置、能量、动量|确定的波长、振幅、相位\n",
    "|两个粒子不能同时占据同一位置|可以同时出现在同一位置\n",
    "|同一粒子也不能同时占据多个位置|可以同时占据多个位置\n",
    "|碰撞现象|衍射、干涉，无碰撞\n",
    "\n"
   ]
  },
  {
   "cell_type": "markdown",
   "metadata": {
    "slideshow": {
     "slide_type": "subslide"
    }
   },
   "source": [
    "- 人们正是通过上述特性判定粒子和波的\n",
    "  \n",
    "- 发现物体那么是粒子,要么是波"
   ]
  },
  {
   "cell_type": "markdown",
   "metadata": {
    "slideshow": {
     "slide_type": "fragment"
    }
   },
   "source": [
    "- 那么光是粒子还是波? "
   ]
  },
  {
   "cell_type": "markdown",
   "metadata": {
    "slideshow": {
     "slide_type": "fragment"
    }
   },
   "source": [
    "- 这个问题困扰了人类大约2000多年"
   ]
  },
  {
   "cell_type": "markdown",
   "metadata": {
    "slideshow": {
     "slide_type": "slide"
    }
   },
   "source": [
    "\n",
    "###  <font color=\"#FFA500\"> 光的波动说 </font>\n",
    "<center><table><tr>\n",
    "<td> <img src=\"figs/2021-12-02-15-46-16.png\" alt=\"Drawing\" style=\"height: 250px;\"/> </td>\n",
    "<td> <img src=\"figs/2021-12-02-15-49-36\" alt=\"Drawing\" style=\"height: 290px;\"/> </td>\n",
    "</tr></table></center>"
   ]
  },
  {
   "cell_type": "markdown",
   "metadata": {
    "slideshow": {
     "slide_type": "subslide"
    }
   },
   "source": [
    "\n",
    "光是一定波长范围内的**电磁波**\n",
    "\n",
    "<center><img src=\"figs/2021-12-02-16-23-16.png \" width=\"600px\" ></center>"
   ]
  },
  {
   "cell_type": "markdown",
   "metadata": {
    "slideshow": {
     "slide_type": "subslide"
    }
   },
   "source": [
    "#### 光的波动说面临的困难：\n",
    "\n",
    "- 黑体辐射\n",
    "- 光电效应\n",
    "- 康普顿效应\n",
    "- 氢原子光谱\n"
   ]
  },
  {
   "cell_type": "markdown",
   "metadata": {
    "slideshow": {
     "slide_type": "slide"
    }
   },
   "source": [
    "##  光电效应 \n",
    "\n",
    "###  <font color=\"#FFA500\"> 光电效应的定义 </font>\n",
    "光照射到金属上，引起其电性质发生变化，这种光变致电的现象统称为光电效应。可分为光电子发射效应，光电导效应和光生伏特效应。一般特指光电子发射效应。\n",
    "\n",
    "<center><img src=\"figs/2021-12-02-16-01-21.png\" width=\"500px\" ></center>\n"
   ]
  },
  {
   "cell_type": "markdown",
   "metadata": {
    "slideshow": {
     "slide_type": "subslide"
    }
   },
   "source": [
    "特点： \n",
    "- 瞬时性\n",
    "  \n",
    "- 临界频率\n",
    "  \n",
    "- 光电子能量由光的频率决定"
   ]
  },
  {
   "cell_type": "markdown",
   "metadata": {
    "slideshow": {
     "slide_type": "subslide"
    }
   },
   "source": [
    "###  <font color=\"#FFA500\"> 光量子假说 </font>\n",
    "\n",
    "In 1905, Einstein considered the derivation of Planck's Law  \n",
    "\n",
    "- Plank’s Law was consistent with experment but not with existing theory\n",
    "- Rayleigh-Jeans Law was consistent with existing theory but not with experiment\n",
    "- For treating Ultraviolet Catastrophe, he proposed the light quantum hypothesis\n",
    "- Using light quantum hypothesis, he explained the Photoelectric effect"
   ]
  },
  {
   "cell_type": "markdown",
   "metadata": {
    "slideshow": {
     "slide_type": "subslide"
    }
   },
   "source": [
    "<center><table><tr>\n",
    "<td> <img src=\"figs/blackbody_radn_curves.png\" alt=\"Drawing\" style=\"height: 300px;\"/> </td>\n",
    "<td> <img src=\"figs/2022-01-17-14-21-43.png\" alt=\"Drawing\" style=\"height: 300px;\"/> </td>\n",
    "</tr></table></center>"
   ]
  },
  {
   "cell_type": "markdown",
   "metadata": {
    "slideshow": {
     "slide_type": "subslide"
    }
   },
   "source": [
    "###  <font color=\"#FFA500\"> Light quantum hypothesis </font>\n",
    "- Light likes particles with unit energy (quanta).\n",
    "$$ E=h\\nu \\hspace{15em}$$\n",
    "- The energy of n light quantum is \n",
    "$$ n h \\nu \\hspace{15em}$$\n",
    "- The momentum of light quantum is (1918)\n",
    "  $$ p=\\frac{E}{c}=\\frac{h\\nu}{c}=\\frac{h}{\\lambda} \\hspace{10em}$$\n",
    "  \n"
   ]
  },
  {
   "cell_type": "markdown",
   "metadata": {
    "slideshow": {
     "slide_type": "subslide"
    }
   },
   "source": [
    "**光电子动能** (光电效应公式)\n",
    "\n",
    "\n",
    "$$\\frac{1}{2}m_eV_0^2=h\\nu-W \\hspace{10em}$$"
   ]
  },
  {
   "cell_type": "markdown",
   "metadata": {
    "slideshow": {
     "slide_type": "subslide"
    }
   },
   "source": [
    "- 瞬时性：光如果是粒子，碰上电子则能量被瞬时吸收\n",
    "  \n",
    "- 临界频率：\n",
    "\n",
    "$$\\nu_0=\\frac{W}{h} \\hspace{15em}$$\n",
    "\n",
    "- 光电子能量与光的频率决定:\n",
    "\n",
    "$$E_k=h\\nu-W \\hspace{15em}$$\n",
    "\n",
    "- Nobel Prize in physics（1921）"
   ]
  },
  {
   "cell_type": "markdown",
   "metadata": {
    "slideshow": {
     "slide_type": "subslide"
    }
   },
   "source": [
    "**实验测量**\n",
    "\n",
    "\n",
    "$$\\begin{equation*}\n",
    "\\begin{split}\n",
    "  \\frac{1}{2}m_eV_0^2 & =h\\nu-W \\\\  \n",
    "  y & =kx-b\n",
    "\\end{split}\n",
    "\\end{equation*} \\hspace{15em}$$\n",
    "\n"
   ]
  },
  {
   "cell_type": "markdown",
   "metadata": {
    "slideshow": {
     "slide_type": "subslide"
    }
   },
   "source": [
    "- 1916年，密立根实验上测定普朗克系数，\n",
    "- 验证光子假说\n",
    "- Nobel Prize in physics（1923）"
   ]
  },
  {
   "cell_type": "markdown",
   "metadata": {
    "slideshow": {
     "slide_type": "subslide"
    }
   },
   "source": [
    "#####   <font color=\"#FF8800\"> Revolutionary Significance </font>\n",
    "\n",
    "- 揭示能量子的本质：在于光本身是量子化的，具有粒子性\n",
    "- 揭示光的本质：光既具波动性又具粒子性。 "
   ]
  },
  {
   "cell_type": "markdown",
   "metadata": {
    "slideshow": {
     "slide_type": "slide"
    }
   },
   "source": [
    "\"在近代物理学结出硕果的那些重大问题中，很难找到一个问题是爱因斯坦没有做出过重要贡献的$\\dots$\n",
    "\n",
    "在他的各种推测中，他有时可能也曾经没有中标的, $\\dots$\n",
    "\n",
    "例如他的光量子假设，就有点迷失了方向$\\dots$\" "
   ]
  },
  {
   "cell_type": "markdown",
   "metadata": {
    "slideshow": {
     "slide_type": "slide"
    }
   },
   "source": [
    "## 康普顿效应\n",
    "\n",
    "<center><img src=\"figs/comptonscattering.png\" width=\"550px\" ></center>\n"
   ]
  },
  {
   "cell_type": "markdown",
   "metadata": {
    "slideshow": {
     "slide_type": "subslide"
    }
   },
   "source": [
    "经验公式：\n",
    "    \n",
    "$$\\lambda_{out}-\\lambda_{in}= k (1-\\cos \\theta) \\hspace{8em) $$\n",
    "    "
   ]
  },
  {
   "cell_type": "markdown",
   "metadata": {
    "slideshow": {
     "slide_type": "slide"
    }
   },
   "source": [
    "推导:\n",
    "Energy of electron \n",
    "\n",
    "$$\\begin{equation*}\n",
    "E^2 =m_ec^2=p^2c^2 +m_0 ^2 c^4 \n",
    "\\end{equation*} \\hspace{8em)$$\n",
    "    \n",
    "Energy of light quantum\n",
    "$$\\begin{equation*}\n",
    "        E =pc \n",
    "    \\end{equation*}\\hspace{8em)$$"
   ]
  },
  {
   "cell_type": "markdown",
   "metadata": {
    "slideshow": {
     "slide_type": "slide"
    }
   },
   "source": [
    "    \n",
    "energy conservation law\n",
    "$$\\begin{equation*}\n",
    "        \\begin{split}\n",
    "        E_i + m_0 c^2 &= E_o + m_ec^2 \\\\\n",
    "        (E_i -E_o + m_0 c^2)^2 &= E_e ^2\\\\\n",
    "        (p_i c-p_o c + m_0 c^2) ^2 &= p_e ^2 c^2 +m_0 ^2 c^4 \\\\\n",
    "        (p_i-p_o)^2 +2 m_0 (p_i c-p_o c) &= p_e ^2\n",
    "    \\end{split}\n",
    "    \\end{equation*} \\hspace{8em)$$"
   ]
  },
  {
   "cell_type": "markdown",
   "metadata": {
    "slideshow": {
     "slide_type": "slide"
    }
   },
   "source": [
    " \n",
    "momentum conservation law\n",
    "$$\\begin{equation*}\n",
    "        \\begin{split}\n",
    "            \\vec{p}_i -\\vec{p}_o &= \\vec{p}_e \\\\\n",
    "            (\\vec{p}_i -\\vec{p}_o)\\cdot (\\vec{p}_i -\\vec{p}_o)  &= \\vec{p}_e\\cdot \\vec{p}_e   \\\\\n",
    "            p_i ^2 + p_o ^2 -2p_i p_o \\cos \\theta &= p_e ^2  \\\\\n",
    "            p_i ^2 + p_o ^2 -2p_i p_o \\cos \\theta &= (p_i-p_o)^2 +2 m_0 (p_i c-p_o c) \\\\\n",
    "            \\frac{1}{p_o} -\\frac{1}{p_i} &= \\frac{1}{m_0 c} (1-\\cos \\theta) \\\\\n",
    "            \\lambda_o -\\lambda_i &= \\frac{h}{m_0 c} (1-\\cos \\theta) \n",
    "        \\end{split}\n",
    "    \\end{equation*} \\hspace{8em) $$"
   ]
  },
  {
   "cell_type": "markdown",
   "metadata": {
    "slideshow": {
     "slide_type": "slide"
    }
   },
   "source": [
    "\\begin{frame}   \n",
    "    \\begin{tcolorbox3}[Significance]\n",
    "        Prove that:\\\\\n",
    "        {\\Bullet} The light of wavelength ($\\lambda$) possesses a quantum momentum \\[p=\\frac{h}{\\lambda}\\]\n",
    "        {\\Bullet} Momentum conservation law works in subatom scales \n",
    "    \\end{tcolorbox3}   \n",
    "    \\color{deepred}{Nobel Prize in physics（1927）}\\\\\n",
    "\\end{frame}\n",
    "\n",
    "%%%%%%%%%%%%%%%%%%%%%%%%%%\n",
    "\\subsection{氢原子光谱}\n",
    "%%%%%%%%%%%%%%%%%%%%%%%%%%\n",
    "\n",
    "\\begin{frame}  \n",
    "     \\frametitle{氢原子光谱}\n",
    "     \\begin{center}\n",
    "        \\includegraphics[width=0.6\\textwidth]{figs/2022-01-17-14-02-45.png}\n",
    "    \\end{center}  \n",
    "    经验公式：\n",
    "       $\\dfrac{1}{\\lambda}=R_H c (\\dfrac{1}{m^2} -\\dfrac{1}{n^2})$ \\\\ \\vspace{0.3em}\n",
    "    \\alert{Problem:} the formula cannot be derived from existing theory\n",
    "\\end{frame}\n",
    "\n",
    "\\begin{frame} \n",
    "    \\frametitle{Rutherford model}  \n",
    "    \\begin{center}\n",
    "        \\includegraphics[width=0.8\\textwidth]{figs/utherford_atom.png}\n",
    "    \\end{center}  \n",
    "\\end{frame}\n",
    "\n",
    "\\begin{frame}  \n",
    "    \\begin{tcolorbox4}[Bohr's hydrogen atom hypothesis]\n",
    "    Bohr asummed that :\\\\\n",
    "    {\\Bullet} Stationary states: Electrons move around the nucleus only in certain allowed circular orbits with fixed energy \\\\\n",
    "    \\[ L=n \\frac{h}{2\\pi}= n \\hbar,\\qquad (\\oint p_i dq_i = n_i h)\\]\n",
    "    {\\Bullet} Quantum transition: Electron can jump between stationary state orbits when absorbed or emitted a photon with certain energy\\\\\n",
    "    \\[ h\\nu=E_n -E_m \\]\n",
    "    \\end{tcolorbox4}\n",
    "\\end{frame}\n",
    "\n",
    "\\begin{frame}   \n",
    "    \\frametitle{}\n",
    "    推导光谱公式\\\\\n",
    "    {\\Bullet} Stationary state orbit radius:\n",
    "    \\begin{equation*}\n",
    "        \\begin{split}\n",
    "            m\\frac{v^2}{r}&=\\frac{1}{4\\pi\\epsilon_0} \\frac{e^2}{r^2} \\\\\n",
    "            L=&mvr =n\\hbar \\\\\n",
    "            r_n&= n^2 (\\frac{\\epsilon_0 h^2}{m\\pi e^2}) =n^2 r_1   \n",
    "        \\end{split} \n",
    "     \\end{equation*}\n",
    "     {\\Bullet} Stationary state orbit energy: \n",
    "     \\begin{equation*}\n",
    "        \\begin{split}\n",
    "            E_n &= T + U \\\\\n",
    "            &= \\frac{1}{2}mv^2- \\frac{1}{4\\pi\\epsilon_0} \\frac{e^2}{r_n ^2} \\\\\n",
    "            &= \\frac{1}{n^2} (-\\frac{m e^4}{8 \\epsilon_0 ^2 h^2}) = \\frac{E_1}{n^2}\n",
    "        \\end{split}  \n",
    "     \\end{equation*}\n",
    "\\end{frame}\n",
    "\n",
    "\\begin{frame}\n",
    "    {\\Bullet} Spectrum formula: \n",
    "    \\begin{equation*}\n",
    "        \\begin{split}\n",
    "         \\nu&=\\frac{E_n -E_m}{h} \\\\\n",
    "         &= \\frac{m e^4}{4\\pi \\hbar ^3} [\\frac{1}{m^2} -\\frac{1}{n^2}]\n",
    "        \\end{split}  \n",
    "     \\end{equation*}\n",
    "     {\\Bullet} Rydberg constant : \n",
    "     \\[R_{theo}= \\frac{m e^4}{4\\pi \\hbar ^3 c} =1.0973731\\times 10^7 m^{-1}\\]\n",
    "    \\[R_{exp}=1.0974\\times10^7 m^{-1} \\]  \n",
    "\\end{frame}\n",
    "\n",
    "\\begin{frame}   \n",
    "    \\frametitle{Bohr's model}  \n",
    "    \\begin{center}\n",
    "        \\includegraphics[width=0.6\\textwidth]{figs/bohrmodel.png}\n",
    "    \\end{center}  \n",
    "    {\\Bullet} 1905年爱因斯坦提出的光子概念，不受名人的重视，普朗克把爱因斯坦的光量子概念说成是“迷失了方向”。\\\\\n",
    "    {\\Bullet} 1913年，28岁的玻尔，创造性地把光子概念用到卢瑟福模型上，成功破解氢原子光谱问题 \\\\\n",
    "    {\\color{deepred} {\\Bullet} Nobel Prize in physics（1922）}\\\\ \n",
    "\\end{frame}\n",
    "\n",
    "\\subsection{光的波粒二象性} \n",
    "\n",
    "\\begin{frame} \n",
    "  \\frametitle{光的波粒二象性}  \n",
    "  {\\Bullet} In 1905, when Einstein first put forward this hypothesis, \n",
    "  he simply stated that light consisted of quanta with energy \\[ E = h\\nu \\] \n",
    "  {\\Bullet} In 1917, he stated that the light quantum carried a momentum of  \\[ p=\\frac{h}{\\lambda}\\]\n",
    "  At this point, the light quantum with massless particle property was named as photon (光子)\n",
    "\\end{frame}\n",
    "\n",
    "\\begin{frame}  \n",
    "  $\\begin{cases}\n",
    "    \\text{Light behaves like waves }\\\\\n",
    "    \\text{~~\\qquad Interference} \\\\\n",
    "    \\text{~~\\qquad Diffraction} \\\\\n",
    "    \\text{Light behaves like particles}\\\\\n",
    "    \\text{~~\\qquad Black body radiation} \\\\\n",
    "    \\text{~~\\qquad Photoelectric effect} \\\\\n",
    "    \\text{~~\\qquad Compton effect} \\\\\n",
    "   \\end{cases}$\\\\\n",
    "   ~~\\\\\n",
    "   Light has both wave and particle properties is called \\alert{wave-particle duality} of light\n",
    "\\end{frame}\n",
    "\n",
    "\\begin{frame}\n",
    "    \\frametitle{}\n",
    "    \\begin{tcolorbox3}[学术讨论]\n",
    "        ~\\\\\n",
    "        How can the light be both particle and wave ?\n",
    "    \\end{tcolorbox3}\n",
    "\\end{frame}\n",
    "\n",
    "%%%%%%%%%%%%%%%%%%%%%%%%%%%\n",
    "\\subsection{物质波假说}\n",
    "%%%%%%%%%%%%%%%%%%%%%%%%%%%\n",
    "\n",
    "\\begin{frame}   \n",
    "  \\frametitle{物质波假说}\n",
    "  \\begin{tcolorbox4}[Matter wave hypothesis]\n",
    "  In 1923, de Broglie states that if light which is classically a wave could behave as a particle\n",
    "  then classical particles could also behave as quantum waves. The wave length and frequency are\n",
    "  \\[\\lambda=\\frac{h}{p}\\]\n",
    "  \\[\\nu =\\frac{E}{h}\\]\n",
    "  \\end{tcolorbox4}\n",
    "\\end{frame}\n",
    "\n",
    "\\begin{frame}  \n",
    "    \\frame{}\n",
    "    Calculating de Broglie wavelength of electron in Bohr's H atom model\n",
    "    \\begin{equation*}\n",
    "        \\begin{split}\n",
    "            L&=n\\hbar \\\\\n",
    "            \\vec{r} \\cdot \\vec{p} & =  n\\frac{h}{2 \\pi} \\\\\n",
    "            2\\pi r&=  n\\frac{h}{p}\\\\\n",
    "            2\\pi r&=  n\\lambda \n",
    "        \\end{split} \n",
    "     \\end{equation*}\n",
    "     Now, we called it standing-wave condition \n",
    "\\end{frame}\n",
    "\n",
    "\n",
    "\\begin{frame}   \n",
    "  \\frametitle{Experimental verification}\n",
    "  \\begin{center}\n",
    "    \\includegraphics[width=0.5\\textwidth]{figs/elediffr.jpeg} \\\\\n",
    "    Electron diffraction patterns (Davisson and Germer, 1927)\n",
    "    \\end{center} \n",
    "\\end{frame}\n",
    "\\begin{frame}   \n",
    "    \\begin{center}\n",
    "      \\includegraphics[width=0.55\\textwidth]{figs/scatting.png} \\\\\n",
    "    \\end{center} \n",
    "    \\begin{itemize}\n",
    "        \\Item  Meeting Bragg formula $2d\\sin \\theta=n\\lambda $\n",
    "        \\Item  Obtaining the wavelength of electron (about 0.16X $nm$), agreeing well with the \n",
    "   calculated de Broglie wavelength \n",
    "    \\end{itemize}\n",
    "  {\\color{deepred} Nobel Prize in physics（1937）}  \n",
    "  \\end{frame}\n",
    "\n",
    "  \\begin{frame}\n",
    "      \\frametitle{}\n",
    "    \\begin{center}\n",
    "         \\includegraphics[width=0.8\\textwidth,height=2.5in]{figs/c60.png}\n",
    "    \\end{center}\n",
    "  \\end{frame}\n",
    "\\begin{frame} \n",
    "    \\begin{tcolorbox}[colback=yellow!10,colframe=red!75!black,title=Significance]\n",
    "        De Broglie extended the wave-particle duality from light to particles! \\\\\n",
    "        {\\color{deepred} Nobel Prize in physics（1929）} for discovery of wave nature of electrons\n",
    "    \\end{tcolorbox}  \n",
    "\\end{frame}\n",
    "\n",
    "\\begin{frame}{电子双缝干涉实验}\n",
    "    \\includemedia[\n",
    "    width=1.0\\linewidth,height=0.67\\linewidth, % 16:9\n",
    "    activate=pageopen,\n",
    "    addresource=figs/doubleslite-n.mp4,\n",
    "    flashvars={\n",
    "    source=figs/doubleslite-n.mp4\n",
    "    &autoPlay=true % start playing on activation\n",
    "    &loop=true\n",
    "    }\n",
    "    ]{}{VPlayer.swf}\n",
    "\\end{frame}\n",
    "\n",
    "\\begin{frame}\n",
    "    \\frametitle{学术讨论}\n",
    "        \\begin{figure}\n",
    "            \\centering\n",
    "            \\subfigure[]{\\includegraphics[width=4.5cm]{figs/ds-1.jpeg}}\n",
    "            \\subfigure[]{\\includegraphics[width=4.5cm]{figs/ds-2.jpeg}}\n",
    "            \\subfigure[]{\\includegraphics[width=4.5cm]{figs/ds-3.jpeg}}\n",
    "            %\\caption{} %图片标题\n",
    "            %\\label{fig:1}  \n",
    "            {\\color{red} How can electrons be both a particle and a wave?}\n",
    "        \\end{figure}\n",
    "    \\setcounter{subfigure}{0}"
   ]
  }
 ],
 "metadata": {
  "celltoolbar": "Slideshow",
  "jupytext": {
   "formats": "ipynb"
  },
  "kernelspec": {
   "display_name": "Python 3 (ipykernel)",
   "language": "python",
   "name": "python3"
  },
  "language_info": {
   "codemirror_mode": {
    "name": "ipython",
    "version": 3
   },
   "file_extension": ".py",
   "mimetype": "text/x-python",
   "name": "python",
   "nbconvert_exporter": "python",
   "pygments_lexer": "ipython3",
   "version": "3.9.12"
  },
  "latex_envs": {
   "LaTeX_envs_menu_present": true,
   "autoclose": false,
   "autocomplete": true,
   "bibliofile": "biblio.bib",
   "cite_by": "apalike",
   "current_citInitial": 1,
   "eqLabelWithNumbers": true,
   "eqNumInitial": 1,
   "hotkeys": {
    "equation": "Ctrl-E",
    "itemize": "Ctrl-I"
   },
   "labels_anchors": false,
   "latex_user_defs": false,
   "report_style_numbering": false,
   "user_envs_cfg": false
  },
  "rise": {
   "autolaunch": true,
   "backimage": "figs/uestcbg.png",
   "enable_chalkboard": true,
   "scroll": true,
   "theme": "white",
   "transition": "convex"
  },
  "toc": {
   "base_numbering": 1,
   "nav_menu": {},
   "number_sections": true,
   "sideBar": false,
   "skip_h1_title": true,
   "title_cell": "Table of Contents",
   "title_sidebar": "Contents",
   "toc_cell": false,
   "toc_position": {},
   "toc_section_display": true,
   "toc_window_display": false
  },
  "vscode": {
   "interpreter": {
    "hash": "aee8b7b246df8f9039afb4144a1f6fd8d2ca17a180786b69acc140d282b71a49"
   }
  }
 },
 "nbformat": 4,
 "nbformat_minor": 2
}
