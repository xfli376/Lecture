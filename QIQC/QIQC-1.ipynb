{
 "cells": [
  {
   "cell_type": "markdown",
   "id": "7ca52853",
   "metadata": {
    "slideshow": {
     "slide_type": "slide"
    }
   },
   "source": [
    "# <center><font color=\"#191970\">量子信息与量子通信</font></center>\n",
    "<br>\n",
    "<center><font color=\"#191970\">Quantum information and quantum communication</font></center>\n",
    "<br>\n",
    "<center><img src=\"QIQC-beamer/images/uestclogo.jpeg \" width=\"15%\"></center>\n",
    " \n",
    "<center> <font color=\"#FFA500\">李小飞</font> <font color=\"#191970\"> @ 电子科技大学 ⋅ 光电科学与工程学院</font></center>"
   ]
  },
  {
   "cell_type": "markdown",
   "id": "53bda3e0",
   "metadata": {
    "slideshow": {
     "slide_type": "slide"
    }
   },
   "source": [
    "# 第一讲 量子信息与通信基础"
   ]
  },
  {
   "cell_type": "markdown",
   "id": "4ba0ce90",
   "metadata": {
    "slideshow": {
     "slide_type": "slide"
    }
   },
   "source": [
    "## 课程简介\n"
   ]
  },
  {
   "cell_type": "markdown",
   "id": "2c53490f",
   "metadata": {
    "slideshow": {
     "slide_type": "fragment"
    }
   },
   "source": [
    "### 分数构成\n",
    "- Normal results 20\\%\n",
    "\n",
    "- Group discussion 30\\%\n",
    "\n",
    "- Project final report 50\\%\n"
   ]
  },
  {
   "cell_type": "markdown",
   "id": "1efbb84d",
   "metadata": {
    "slideshow": {
     "slide_type": "subslide"
    }
   },
   "source": [
    "### 参考书目\n",
    "\n",
    "- 《量子计算与量子信息》 (10周年版)  [美]Michael A. Nielsen，Isaac L. Chuang，清华大学出版社，2015   \n",
    "\n",
    "- 《量子信息处理技术》，赵生妹，郑宝玉，北京邮电大学出版社，2010\n",
    "\n",
    "- 《Quantum Computation and Quantum Information》(10th Anniversary Edition) , M. A. Nielsen, I. L. Chuang，Cambridge University Press，2011\n",
    "\n",
    "- 《Quantum Information, Computation and Communication》J. A. Jones,D. Jaksch，Oxford  University Press, 2012\n",
    "\n",
    "- 《量子信息物理原理》，科学出版社，张永德，   2016\n",
    "\n"
   ]
  },
  {
   "cell_type": "markdown",
   "id": "0cc3191c",
   "metadata": {
    "slideshow": {
     "slide_type": "slide"
    }
   },
   "source": [
    "## 量子信息学简介"
   ]
  },
  {
   "cell_type": "markdown",
   "id": "1844ec38",
   "metadata": {
    "slideshow": {
     "slide_type": "fragment"
    }
   },
   "source": [
    "### 量子信息学定义\n",
    "\n"
   ]
  },
  {
   "cell_type": "markdown",
   "id": "f3426c7a",
   "metadata": {},
   "source": [
    "![alt](https://)"
   ]
  }
 ],
 "metadata": {
  "celltoolbar": "Slideshow",
  "jupytext": {
   "formats": "ipynb"
  },
  "kernelspec": {
   "display_name": "Python 3 (ipykernel)",
   "language": "python",
   "name": "python3"
  },
  "language_info": {
   "codemirror_mode": {
    "name": "ipython",
    "version": 3
   },
   "file_extension": ".py",
   "mimetype": "text/x-python",
   "name": "python",
   "nbconvert_exporter": "python",
   "pygments_lexer": "ipython3",
   "version": "3.9.12"
  },
  "latex_envs": {
   "LaTeX_envs_menu_present": true,
   "autoclose": false,
   "autocomplete": true,
   "bibliofile": "biblio.bib",
   "cite_by": "apalike",
   "current_citInitial": 1,
   "eqLabelWithNumbers": true,
   "eqNumInitial": 1,
   "hotkeys": {
    "equation": "Ctrl-E",
    "itemize": "Ctrl-I"
   },
   "labels_anchors": false,
   "latex_user_defs": false,
   "report_style_numbering": false,
   "user_envs_cfg": false
  },
  "rise": {
   "autolaunch": true,
   "backimage": "QIQC-beamer/images/uestcbg.png",
   "enable_chalkboard": true,
   "scroll": true,
   "theme": "white",
   "transition": "convex"
  },
  "toc": {
   "base_numbering": 1,
   "nav_menu": {},
   "number_sections": true,
   "sideBar": false,
   "skip_h1_title": true,
   "title_cell": "Table of Contents",
   "title_sidebar": "Contents",
   "toc_cell": false,
   "toc_position": {},
   "toc_section_display": true,
   "toc_window_display": false
  },
  "vscode": {
   "interpreter": {
    "hash": "aee8b7b246df8f9039afb4144a1f6fd8d2ca17a180786b69acc140d282b71a49"
   }
  }
 },
 "nbformat": 4,
 "nbformat_minor": 5
}
