{
 "cells": [
  {
   "cell_type": "markdown",
   "id": "7ca52853",
   "metadata": {
    "slideshow": {
     "slide_type": "slide"
    }
   },
   "source": [
    "<div id=\"TITLE\" class=\"row\">\n",
    "<div class=\"col-md-12\">\n",
    "<p class=\"class_name\"> 量子信息与量子通信</p>\n",
    "<p class=\"class_ename\">Quantum information and quantum communication</p> \n",
    "<br>\n",
    "<p class=\"name_address\">李小飞 <span class=\"at\"><i class=\"fa fa-at\" aria-hidden=\"true\"></i></span> 光电科学与技术学院</p>\n",
    "<p class=\"date\"> 2023-03-01 </p>\n",
    "</div>\n",
    "</div>"
   ]
  },
  {
   "cell_type": "markdown",
   "id": "53bda3e0",
   "metadata": {
    "slideshow": {
     "slide_type": "slide"
    }
   },
   "source": [
    "# 第一讲 量子比特 "
   ]
  },
  {
   "cell_type": "markdown",
   "id": "4ba0ce90",
   "metadata": {
    "slideshow": {
     "slide_type": "slide"
    }
   },
   "source": [
    "## 课程简介"
   ]
  },
  {
   "cell_type": "markdown",
   "id": "dcd7bb1d",
   "metadata": {
    "slideshow": {
     "slide_type": "fragment"
    }
   },
   "source": [
    "### 教学内容\n",
    "\n",
    "- 量子比特 （2学时）\n",
    "- 量子力学基础 （2学时）\n",
    "- 量子信息处理与量子计算 （8学时）\n",
    "- 量子通信基础 （8学时）"
   ]
  },
  {
   "cell_type": "markdown",
   "id": "2c53490f",
   "metadata": {
    "slideshow": {
     "slide_type": "subslide"
    }
   },
   "source": [
    "\n",
    "### 分数构成 <br>"
   ]
  },
  {
   "cell_type": "markdown",
   "id": "d2882447",
   "metadata": {
    "slideshow": {
     "slide_type": "fragment"
    }
   },
   "source": [
    "\n",
    "- Normal results 20% \n",
    "- Group discussion 30%\n",
    "- Project final report 50%"
   ]
  },
  {
   "cell_type": "markdown",
   "id": "1efbb84d",
   "metadata": {
    "slideshow": {
     "slide_type": "subslide"
    }
   },
   "source": [
    "### 参考书目"
   ]
  },
  {
   "cell_type": "markdown",
   "id": "96090a33",
   "metadata": {
    "slideshow": {
     "slide_type": "fragment"
    }
   },
   "source": [
    "\n",
    "- 《量子计算与量子信息》 (10周年版)  [美]Michael A. Nielsen，Isaac L. Chuang，清华大学出版社，2015   \n",
    "- 《Quantum Computation and Quantum Information》(10th Anniversary Edition) , M. A. Nielsen, I. L. Chuang，Cambridge University Press，2011\n",
    "- 《Quantum Information, Computation and Communication》J. A. Jones,D. Jaksch，Oxford  University Press, 2012\n",
    "- 《量子信息物理原理》，科学出版社，张永德，   2016\n",
    "\n"
   ]
  },
  {
   "cell_type": "markdown",
   "id": "0cc3191c",
   "metadata": {
    "slideshow": {
     "slide_type": "slide"
    }
   },
   "source": [
    "## 量子信息学简介\n",
    "\n",
    "### 量子信息学\n",
    "<center><img class=\"imgmixed\" src=\"QIQC/QIQC-beamer/figs/1.png\" width=400 height=400></center>  \n",
    "是量子力学与信息学交叉形成的一门新学科。以光子和电子作为信息载体，研究量子信息的产生、发送、传递、接收、提取、识别、处理、控制的原理及其应用等。 2021年，量子信息学被列入普通高等学校本科专业招生目录。"
   ]
  },
  {
   "cell_type": "markdown",
   "id": "bbbf0936",
   "metadata": {
    "slideshow": {
     "slide_type": "slide"
    }
   },
   "source": [
    "### 应用前景\n",
    "\n",
    "<center><img class=\"imgmixed\" src=\"QIQC/QIQC-beamer/figs/2.png\" width=600 height=500></center>  "
   ]
  },
  {
   "cell_type": "markdown",
   "id": "0394e3c7",
   "metadata": {
    "slideshow": {
     "slide_type": "slide"
    }
   },
   "source": [
    "### 计算机发展简史\n",
    "\n",
    "- 算盘 （人力）\n",
    "- 图灵机（1930）机械，力学\n",
    "- 电子计算机（1946-1956）电学，真空-电子管，\n",
    "- 晶体管计算机(1956-1964) 数字化，卡片机\n",
    "- 集成电路（1964-1970）单片机，磁盘，操作系统\n",
    "- 超大规模集成电路（1970-至今）微处理器\n",
    "- 量子计算机（...）"
   ]
  },
  {
   "cell_type": "markdown",
   "id": "0855168e",
   "metadata": {
    "slideshow": {
     "slide_type": "subslide"
    }
   },
   "source": [
    "##### Moor's Lore\n",
    "\n",
    "<center><img class=\"imgmixed\" src=\"QIQC/QIQC-beamer/figs/3.png\" width=600 height=500></center>  "
   ]
  },
  {
   "cell_type": "markdown",
   "id": "31f78f06",
   "metadata": {
    "slideshow": {
     "slide_type": "subslide"
    }
   },
   "source": [
    "##### 量子计算机的提出\n",
    "\n",
    "<center><img class=\"imgmixed\" src=\"QIQC/QIQC-beamer/figs/4.png\" width=600 height=500></center>  "
   ]
  },
  {
   "cell_type": "markdown",
   "id": "03f2b3b8",
   "metadata": {
    "slideshow": {
     "slide_type": "subslide"
    }
   },
   "source": [
    "##### 量子信息学的难点 \n",
    "\n",
    "- 量子计算机的顶层设计（数学模型）\n",
    "- 量子信息的物理表达（物理模型）\n",
    "- 量子态的保持（相干时间）\n",
    "- 多量子并行（多量子多自由度纠缠）\n",
    "- 量子算法（数学抽象）\n"
   ]
  },
  {
   "cell_type": "markdown",
   "id": "b362a0eb",
   "metadata": {
    "slideshow": {
     "slide_type": "subslide"
    }
   },
   "source": [
    "##### 量子通信的关键：\n",
    "<center><img class=\"imgmixed\" src=\"QIQC/QIQC-beamer/figs/5.png\" width=600 height=500></center>  \n",
    "- 量子态传多远\n",
    "- 量子纠缠传多远"
   ]
  },
  {
   "cell_type": "markdown",
   "id": "15f2e5bb",
   "metadata": {
    "slideshow": {
     "slide_type": "subslide"
    }
   },
   "source": [
    "##### 量子计算发展的三个阶段\n",
    "<center><img class=\"imgmixed\" src=\"QIQC/QIQC-beamer/figs/6.png\" width=600 height=500></center>  "
   ]
  },
  {
   "cell_type": "markdown",
   "id": "5562499c",
   "metadata": {
    "slideshow": {
     "slide_type": "subslide"
    }
   },
   "source": [
    "<h5>著名的量子计算公司</h5> <br>"
   ]
  },
  {
   "cell_type": "markdown",
   "id": "72d2787e",
   "metadata": {
    "slideshow": {
     "slide_type": "fragment"
    }
   },
   "source": [
    "<div class=\"row\"> \n",
    "<div class=\"col-md-6\">\n",
    "<ul>\n",
    "<li>Accenture(埃森哲,英) </li>\n",
    "<li>阿里巴巴 </li>\n",
    "<li>AT&T </li>\n",
    "<li>Atos（源讯）</li>\n",
    "<li>百度</li>\n",
    "</ul>\n",
    "</div>\n",
    "<div class=\"col-md-6\">\n",
    "<ul>\n",
    "<li>谷歌 </li>\n",
    "<li>IBM</li>\n",
    "<li>Intel </li>\n",
    "<li>微软 </li>\n",
    "</ul>\n",
    "</div>\n",
    "</div>"
   ]
  },
  {
   "cell_type": "markdown",
   "id": "b9d42611",
   "metadata": {
    "slideshow": {
     "slide_type": "slide"
    }
   },
   "source": [
    "## 量子比特"
   ]
  },
  {
   "cell_type": "markdown",
   "id": "88996fb3",
   "metadata": {
    "slideshow": {
     "slide_type": "fragment"
    }
   },
   "source": [
    "<center><img class=\"imgmixed\" src=\"QIQC/QIQC-beamer/figs/7.png\" width=800 height=500></center>  "
   ]
  },
  {
   "cell_type": "markdown",
   "id": "dde1b17c",
   "metadata": {
    "slideshow": {
     "slide_type": "slide"
    }
   },
   "source": [
    "<h3>量子比特的物理实现</h3> <br>\n",
    "量子比特是物理上的双能级系统，有以下可能实现方案"
   ]
  },
  {
   "cell_type": "markdown",
   "id": "ad6442dd",
   "metadata": {
    "slideshow": {
     "slide_type": "fragment"
    }
   },
   "source": [
    "<div class=\"row\"> \n",
    "<div class=\"col-md-6\">\n",
    "<ul>\n",
    "<li>光子的偏振</li>\n",
    "<li>电子的自旋</li>\n",
    "<li>双能级原子 </li>\n",
    "</ul>\n",
    "</div>\n",
    "<div class=\"col-md-6\">\n",
    "<ul>\n",
    "<li>离子色心 </li>\n",
    "<li>分子</li>\n",
    "<li>超导态 </li>\n",
    "<li>拓扑态 </li>\n",
    "</ul>\n",
    "</div>\n",
    "</div> \n"
   ]
  },
  {
   "cell_type": "markdown",
   "id": "a722baa5",
   "metadata": {
    "slideshow": {
     "slide_type": "slide"
    }
   },
   "source": [
    "### 量子比特的角度表示\n",
    "\n",
    "量子比特：$ \\left\\vert \\psi \\right\\rangle = \\alpha \\left\\vert 0 \\right\\rangle + \\beta \\left\\vert 1 \\right\\rangle$  \n",
    "\n",
    "由于$ \\alpha ^2 + \\beta ^2 =1 $, 量子比特可表示成角度形式 \n",
    "\n",
    "\\begin{aligned}\n",
    "    \\left\\vert \\psi \\right\\rangle &=\\alpha\\left\\vert 0 \\right\\rangle +\\beta\\left\\vert 1 \\right\\rangle \\\\\n",
    "    &=e^{i\\gamma} \\left(\\cos\\frac{\\theta}{2}\\left\\vert 0 \\right\\rangle+e^{i\\varphi} \\sin\\frac{\\theta}{2}\\left\\vert 1 \\right\\rangle\\right) \\\\\n",
    "    &=\\cos\\frac{\\theta}{2}\\left\\vert 0 \\right\\rangle + e^{i\\varphi} \\sin\\frac{\\theta}{2}\\left\\vert 1 \\right\\rangle\n",
    "  \\end{aligned}\n",
    "\n",
    "改 $(\\alpha,\\beta)$ 为 $(\\theta,\\varphi)$ "
   ]
  },
  {
   "cell_type": "markdown",
   "id": "8a72e245",
   "metadata": {
    "slideshow": {
     "slide_type": "slide"
    }
   },
   "source": [
    "### Bloch球面\n",
    "在（$r,\\theta,\\varphi$）坐标系，由于$r\\equiv 1$, 量子比特可用$(\\theta,\\varphi)$ 确定的球面描述。\n",
    "<center><img class=\"imgmixed\" src=\"QIQC/QIQC-beamer/figs/8.png\" width=500 height=500></center>  "
   ]
  },
  {
   "cell_type": "markdown",
   "id": "84c3c235",
   "metadata": {
    "slideshow": {
     "slide_type": "slide"
    }
   },
   "source": [
    "### 量子比特的矩阵表示\n",
    "量子态与系数矩阵有对应关系    \n",
    "\n",
    "$$\\begin{matrix} \n",
    "    \\left\\vert \\psi \\right\\rangle =\\begin{pmatrix}\n",
    "            \\alpha\\\\\n",
    "            \\beta\n",
    "    \\end{pmatrix},\n",
    "    &    \n",
    "    \\left\\vert 0 \\right\\rangle \n",
    "    =\\begin{pmatrix}\n",
    "        1\\\\\n",
    "        0\n",
    "    \\end{pmatrix},\n",
    "    &\n",
    "    \\left\\vert 1 \\right\\rangle \n",
    "    =\\begin{pmatrix}\n",
    "        0\\\\\n",
    "        1\n",
    "    \\end{pmatrix}\n",
    "    \\end{matrix}$$\n",
    "\n"
   ]
  },
  {
   "cell_type": "markdown",
   "id": "c801292e",
   "metadata": {
    "slideshow": {
     "slide_type": "slide"
    }
   },
   "source": [
    "### 量子比特的密度矩阵\n",
    "$$\n",
    "\\begin{aligned}\n",
    "    \\rho &= \\left\\vert \\psi \\right\\rangle \\left\\langle \\psi \\right\\vert  \\\\ \n",
    "    &= \\begin{pmatrix}\n",
    "            \\alpha\\\\\n",
    "            \\beta\n",
    "    \\end{pmatrix} \n",
    "    \\begin{pmatrix}\n",
    "            \\alpha ^* &\n",
    "            \\beta ^*\n",
    "    \\end{pmatrix} \\\\\n",
    "    &=    \\begin{pmatrix}\n",
    "            \\alpha \\alpha ^* &  \\alpha \\beta ^* \\\\\n",
    "          \\alpha \\beta &  \\beta \\beta ^*\n",
    "    \\end{pmatrix} \n",
    "\\end{aligned} $$   "
   ]
  },
  {
   "cell_type": "markdown",
   "id": "5fc05633",
   "metadata": {
    "slideshow": {
     "slide_type": "slide"
    }
   },
   "source": [
    "### 量子比特的泡利展开\n",
    "\n",
    "\\begin{aligned}\n",
    "   \\left\\vert \\psi \\right\\rangle \\left\\langle \\psi \\right\\vert  \n",
    "    &=\n",
    "    \\begin{pmatrix}\n",
    "            \\alpha \\alpha ^* &  \\alpha \\beta ^* \\\\\n",
    "          \\alpha \\beta &  \\beta \\beta ^*\n",
    "   \\end{pmatrix} \n",
    " \\\\\n",
    " &=\n",
    "    \\begin{pmatrix}\n",
    "            \\cos\\frac{\\theta}{2} \\cos^* \\frac{\\theta}{2}  &  \\cos\\frac{\\theta}{2}  (e^{i\\varphi} \\sin\\frac{\\theta}{2}) ^* \\\\\n",
    "          \\cos\\frac{\\theta}{2}  e^{i\\varphi} \\sin\\frac{\\theta}{2} &  e^{i\\varphi} \\sin\\frac{\\theta}{2} (e^{i\\varphi} \\sin\\frac{\\theta}{2}) ^*\n",
    "   \\end{pmatrix} \n",
    " \\\\\n",
    "    &= \\frac{1}{2}I +\\frac{1}{2}\\sin\\theta\\cos\\varphi\\sigma_x +\\frac{1}{2}\\sin\\theta\\sin\\varphi\\sigma_y+ \\frac{1}{2}\\cos\\theta\\sigma_z \n",
    "\\end{aligned}"
   ]
  },
  {
   "cell_type": "markdown",
   "id": "04e2d86f",
   "metadata": {
    "slideshow": {
     "slide_type": "subslide"
    }
   },
   "source": [
    "#### 泡利矩阵\n",
    "\n",
    "$$ \\sigma_x =\n",
    "\\begin{pmatrix}\n",
    "    0 & 1 \\\\\n",
    "    1 & 0 \n",
    "\\end{pmatrix}, \\qquad\n",
    "\\sigma_y =\n",
    "\\begin{pmatrix}\n",
    "    0 & -i \\\\\n",
    "    i & 0 \n",
    "\\end{pmatrix} $$\n",
    "$$\n",
    "\\sigma_z =\n",
    "\\begin{pmatrix}\n",
    "    1 & 0 \\\\\n",
    "    0 & -1 \n",
    "\\end{pmatrix} , \\qquad\n",
    "I =\n",
    "\\begin{pmatrix}\n",
    "    1 & 0 \\\\\n",
    "    0 & 1 \n",
    "\\end{pmatrix}\n",
    "$$\n",
    "\n",
    "构成 $ C^2$ 空间的正交归一完全集  "
   ]
  },
  {
   "cell_type": "markdown",
   "id": "45ebb428",
   "metadata": {
    "slideshow": {
     "slide_type": "slide"
    }
   },
   "source": [
    "## 双量子比特"
   ]
  },
  {
   "cell_type": "markdown",
   "id": "7292458c",
   "metadata": {
    "slideshow": {
     "slide_type": "fragment"
    }
   },
   "source": [
    "\n",
    "### 双量子比特的计算基矢\n",
    "- 两个经典比特有四种状态\n",
    "  $$ 00，01， 10， 11  $$  \n",
    "- 两个量子比特有四种计算基矢态\n",
    "  $$  \\left\\vert 00 \\right\\rangle， \\left\\vert 01 \\right\\rangle， \\left\\vert 10 \\right\\rangle，\\left\\vert 11 \\right\\rangle$$"
   ]
  },
  {
   "cell_type": "markdown",
   "id": "b3c641db",
   "metadata": {
    "slideshow": {
     "slide_type": "slide"
    }
   },
   "source": [
    "- 矩阵表示是原矩阵的直积 \n",
    "\n",
    "$$  \\left\\vert 01 \\right\\rangle = \\left\\vert 0 \\right\\rangle \\otimes \\left\\vert 1 \\right\\rangle =    \n",
    "\\begin{pmatrix}\n",
    "    1\\\\\n",
    "    0\n",
    "\\end{pmatrix}\n",
    "\\otimes\n",
    "\\begin{pmatrix}\n",
    "    0\\\\\n",
    "    1\n",
    "\\end{pmatrix}\n",
    "=\n",
    "\\begin{pmatrix}\n",
    "    1 \\otimes \\begin{pmatrix}\n",
    "        0\\\\\n",
    "        1\n",
    "    \\end{pmatrix}\\\\\n",
    "    0 \\otimes \\begin{pmatrix}\n",
    "        0\\\\\n",
    "        1\n",
    "    \\end{pmatrix}\n",
    "\\end{pmatrix}\n",
    "=\n",
    "\\begin{pmatrix}\n",
    "    0\\\\\n",
    "    1\\\\\n",
    "    0\\\\\n",
    "    0\n",
    "\\end{pmatrix}  $$ "
   ]
  },
  {
   "cell_type": "markdown",
   "id": "7ee75fc5",
   "metadata": {
    "slideshow": {
     "slide_type": "fragment"
    }
   },
   "source": [
    "\n",
    "$$  \\left\\vert 00 \\right\\rangle= \\begin{pmatrix}\n",
    "    1\\\\\n",
    "    0\\\\\n",
    "    0\\\\\n",
    "    0\n",
    "\\end{pmatrix}, \\left\\vert 01 \\right\\rangle= \\begin{pmatrix}\n",
    "    0\\\\\n",
    "    1\\\\\n",
    "    0\\\\\n",
    "    0\n",
    "\\end{pmatrix}, \\left\\vert 10 \\right\\rangle= \\begin{pmatrix}\n",
    "    0\\\\\n",
    "    0\\\\\n",
    "    1\\\\\n",
    "    0\n",
    "\\end{pmatrix}, \\left\\vert 11 \\right\\rangle= \\begin{pmatrix}\n",
    "    0\\\\\n",
    "    0\\\\\n",
    "    0\\\\\n",
    "    1\n",
    "\\end{pmatrix}  $$\n"
   ]
  },
  {
   "cell_type": "markdown",
   "id": "b557604d",
   "metadata": {
    "slideshow": {
     "slide_type": "subslide"
    }
   },
   "source": [
    "- 双量子比特的基矢展开\n",
    "\n",
    "  $$  \\left\\vert \\Psi \\right\\rangle = \\alpha_{00}\\left\\vert 00 \\right\\rangle +  \\alpha_{01}\\left\\vert 01 \\right\\rangle +  \\alpha_{10}\\left\\vert 10 \\right\\rangle +  \\alpha_{11}\\left\\vert 11 \\right\\rangle   $$ "
   ]
  }
 ],
 "metadata": {
  "celltoolbar": "Slideshow",
  "jupytext": {
   "formats": "ipynb"
  },
  "kernelspec": {
   "display_name": "Python 3 (ipykernel)",
   "language": "python",
   "name": "python3"
  },
  "language_info": {
   "codemirror_mode": {
    "name": "ipython",
    "version": 3
   },
   "file_extension": ".py",
   "mimetype": "text/x-python",
   "name": "python",
   "nbconvert_exporter": "python",
   "pygments_lexer": "ipython3",
   "version": "3.9.12"
  },
  "latex_envs": {
   "LaTeX_envs_menu_present": true,
   "autoclose": false,
   "autocomplete": true,
   "bibliofile": "biblio.bib",
   "cite_by": "apalike",
   "current_citInitial": 1,
   "eqLabelWithNumbers": true,
   "eqNumInitial": 1,
   "hotkeys": {
    "equation": "Ctrl-E",
    "itemize": "Ctrl-I"
   },
   "labels_anchors": false,
   "latex_user_defs": false,
   "report_style_numbering": false,
   "user_envs_cfg": false
  },
  "rise": {
   "autolaunch": false,
   "backimage": "QIQC/QIQC-beamer/images/uestcbg.png",
   "enable_chalkboard": true,
   "height": "90%",
   "leap_motion": {
    "naturalSwipe": true,
    "pointerColor": "#d80000",
    "pointerOpacity": 0.5
   },
   "scroll": true,
   "start_slideshow_at": "beginning",
   "theme": "white",
   "transition": "convex",
   "width": "90%"
  },
  "toc": {
   "base_numbering": 1,
   "nav_menu": {},
   "number_sections": true,
   "sideBar": false,
   "skip_h1_title": true,
   "title_cell": "Table of Contents",
   "title_sidebar": "Contents",
   "toc_cell": false,
   "toc_position": {},
   "toc_section_display": true,
   "toc_window_display": false
  },
  "vscode": {
   "interpreter": {
    "hash": "4ac58c68a7555430f59ebde22571acf41a779f71ba338658c9667eabd9be8e0e"
   }
  }
 },
 "nbformat": 4,
 "nbformat_minor": 5
}
